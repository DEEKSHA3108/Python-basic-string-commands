{
 "cells": [
  {
   "cell_type": "markdown",
   "metadata": {},
   "source": [
    "**Write a Python Program to calculate the length of a string given**\n",
    "\n",
    "string  = 'Goods and Prices'"
   ]
  },
  {
   "cell_type": "code",
   "execution_count": 1,
   "metadata": {},
   "outputs": [
    {
     "data": {
      "text/plain": [
       "16"
      ]
     },
     "execution_count": 1,
     "metadata": {},
     "output_type": "execute_result"
    }
   ],
   "source": [
    "len('Goods and Prices') # to calculate the length of the string"
   ]
  },
  {
   "cell_type": "markdown",
   "metadata": {},
   "source": [
    "**How would you check the Python version you are using in your system ?. Write the code.**"
   ]
  },
  {
   "cell_type": "code",
   "execution_count": 2,
   "metadata": {},
   "outputs": [
    {
     "data": {
      "text/plain": [
       "'3.8.3 (default, Jul  2 2020, 11:26:31) \\n[Clang 10.0.0 ]'"
      ]
     },
     "execution_count": 2,
     "metadata": {},
     "output_type": "execute_result"
    }
   ],
   "source": [
    "import sys # importing the module to check the version\n",
    "sys.version #command to check the version"
   ]
  },
  {
   "cell_type": "markdown",
   "metadata": {},
   "source": [
    "**Take the first name and last name from the user and get the last name printed first and the first in the last.**"
   ]
  },
  {
   "cell_type": "code",
   "execution_count": 3,
   "metadata": {},
   "outputs": [
    {
     "name": "stdout",
     "output_type": "stream",
     "text": [
      "enter the first name :vishnu\n",
      "enter the last name :dinesh\n",
      "dinesh vishnu\n"
     ]
    }
   ],
   "source": [
    "first_name = input(\"enter the first name :\") # to input first value\n",
    "last_name = input(\"enter the last name :\") # to input last value\n",
    "print(\"\"+last_name +\" \" +first_name) # methord"
   ]
  },
  {
   "cell_type": "markdown",
   "metadata": {},
   "source": [
    "**Lets Say num = 5 , Now calculate the the vaule of ( num  - cube + num - square + num ) using Operators**"
   ]
  },
  {
   "cell_type": "code",
   "execution_count": 17,
   "metadata": {},
   "outputs": [
    {
     "name": "stdout",
     "output_type": "stream",
     "text": [
      "the value is : 655\n"
     ]
    }
   ],
   "source": [
    "num = 5\n",
    "print(\"the value is :\",( (num ** 4) +(num ** 2) + num))"
   ]
  },
  {
   "cell_type": "markdown",
   "metadata": {},
   "source": [
    "**Take 3 integer inputs from the user and return the sum of all the numbers to the user.**"
   ]
  },
  {
   "cell_type": "code",
   "execution_count": 5,
   "metadata": {},
   "outputs": [
    {
     "name": "stdout",
     "output_type": "stream",
     "text": [
      "enter the first integer :10\n",
      "enter the second integer :20\n",
      "enter the third integer :30\n",
      "Your sum of all the number are : 60\n"
     ]
    }
   ],
   "source": [
    "integer1 = int(input(\"enter the first integer :\")) # input 1st num\n",
    "integer2 = int(input(\"enter the second integer :\")) # input 2nd num\n",
    "integer3 = int(input(\"enter the third integer :\")) # input 3rd num\n",
    "print(\"Your sum of all the number are :\" , (integer1+integer2+integer3) ) # printing the sum"
   ]
  },
  {
   "cell_type": "markdown",
   "metadata": {},
   "source": [
    "**Suppose x and y are the two variables having some values, and x-y = 5 and so does the x + y . Then Find the value of ( x-square  -   y-square ).**"
   ]
  },
  {
   "cell_type": "code",
   "execution_count": 18,
   "metadata": {},
   "outputs": [
    {
     "name": "stdout",
     "output_type": "stream",
     "text": [
      "value is : 45\n"
     ]
    }
   ],
   "source": [
    "# taking x=7 and y=2 as x-y = 5\n",
    "x = 7\n",
    "y = 2\n",
    "print(\"value is :\",((x**2)-(y**2)))"
   ]
  },
  {
   "cell_type": "markdown",
   "metadata": {},
   "source": [
    "**Convert the following types to Integer Datatype**\n",
    "\n",
    "**Numbers :** 45.3, -0, 2.85, 05.45, 23.6"
   ]
  },
  {
   "cell_type": "code",
   "execution_count": 10,
   "metadata": {},
   "outputs": [
    {
     "name": "stdout",
     "output_type": "stream",
     "text": [
      "class of values :\n",
      "<class 'float'>\n",
      "<class 'int'>\n",
      "<class 'float'>\n",
      "<class 'float'>\n",
      "<class 'float'>\n",
      "new integer type :\n",
      "45\n",
      "0\n",
      "2\n",
      "5\n",
      "23\n"
     ]
    }
   ],
   "source": [
    "# lets input the numbers\n",
    "num1 = 45.3 \n",
    "num2 = -0\n",
    "num3 = 2.85\n",
    "num4 = 05.45\n",
    "num5 = 23.63\n",
    "\n",
    "# now lets see the type of all values\n",
    "print(\"class of values :\",type(num1),type(num2),type(num3),type(num4),type(num5),sep ='\\n')\n",
    "\n",
    "#now lets do type casting to integer\n",
    "num1 = int(num1) \n",
    "num2 = int(num2) \n",
    "num3 = int(num3)\n",
    "num4 = int(num4)\n",
    "num5 = int(num5)\n",
    "print(\"new integer type :\",num1,num2,num3,num4,num5,sep = '\\n')"
   ]
  },
  {
   "cell_type": "markdown",
   "metadata": {},
   "source": [
    "**Which of the following is a variable and which of the following in a String ?. Discuss**"
   ]
  },
  {
   "cell_type": "code",
   "execution_count": null,
   "metadata": {},
   "outputs": [],
   "source": [
    "\"\"\"\n",
    "VARIABLE: A variable is something that holds a value that may change. In simple way, a variable is just a box that you           can put any values in it.\n",
    "  example : \n",
    "        \n",
    "        marks = 100\n",
    "        print(marks)\n",
    "        \n",
    "        here marks is avariable which can hold a value and the value for marks is 100\n",
    "\n",
    "STRING : A string is simply a list of characters in order or a sequence of character,A character is anything you can            type on the keyboard in one keystroke, like a letter, a number, or a backslash\n",
    "   example:\n",
    "       \n",
    "       str1 = 'my name is vishnu dinesh'      # single quotes\n",
    "       str2 = \"my name is vishnu dinesh\"      # double quotes\n",
    "       str2 = \"\"\" my name is vishnu dinesh\"\"\" # triple quotes\n",
    " \"\"\"      "
   ]
  },
  {
   "cell_type": "markdown",
   "metadata": {},
   "source": [
    "**Name the Data Types learnt till now in Python**"
   ]
  },
  {
   "cell_type": "code",
   "execution_count": null,
   "metadata": {},
   "outputs": [],
   "source": [
    "# number - int,float,double,long\n",
    "# string\n",
    "# list\n",
    "# set\n",
    "# tuple\n",
    "# dictionary\n",
    "# bool"
   ]
  },
  {
   "cell_type": "markdown",
   "metadata": {},
   "source": [
    "**What does the variable contain after the following code runs?**"
   ]
  },
  {
   "cell_type": "raw",
   "metadata": {},
   "source": [
    "variable = 20\n",
    "variable + 1 "
   ]
  },
  {
   "cell_type": "code",
   "execution_count": null,
   "metadata": {},
   "outputs": [],
   "source": [
    "# after executing the code the code will be incremented / added by one # the value will be = 21"
   ]
  },
  {
   "cell_type": "markdown",
   "metadata": {},
   "source": [
    "**What will the two expressions will evaluate**?"
   ]
  },
  {
   "cell_type": "raw",
   "metadata": {},
   "source": [
    "'expression_1' + 'expression_2'\n",
    "'expression_1' * 3"
   ]
  },
  {
   "cell_type": "code",
   "execution_count": null,
   "metadata": {},
   "outputs": [],
   "source": [
    "# in first code  = expression_1 and expression_2 will be concatinated /added # \"expression_1expression_2\"\n",
    "# in second code = expression_1 will be printed thrice \" * 3\"  # \"expression_1expression_1expression_1\""
   ]
  },
  {
   "cell_type": "markdown",
   "metadata": {},
   "source": [
    "**Why x is a Valid variable and 100 is invalid ?**"
   ]
  },
  {
   "cell_type": "code",
   "execution_count": null,
   "metadata": {},
   "outputs": [],
   "source": [
    "# a variable is something that holds value \n",
    "# a number is '100' is not a variable its a value\n",
    "# x is a variable which can hold a value even '100'"
   ]
  },
  {
   "cell_type": "markdown",
   "metadata": {},
   "source": [
    "**Why does the statement caiuse an error ?**"
   ]
  },
  {
   "cell_type": "raw",
   "metadata": {},
   "source": [
    " print('Artificial Intelligence was first coined in the year = ' + 1999)"
   ]
  },
  {
   "cell_type": "code",
   "execution_count": null,
   "metadata": {},
   "outputs": [],
   "source": [
    "# it will print a type error\n",
    "# in concatination process a string can only be concatinated to a string ,here 1999 is an integer\n",
    "# we can convert 1999 integer to string '1999' and do concatination"
   ]
  },
  {
   "cell_type": "markdown",
   "metadata": {},
   "source": [
    "Notebook created by: <a href = \"https://www.linkedin.com/in/sumitkumarshukla/\">Sumit Kumar Shukla</a>"
   ]
  }
 ],
 "metadata": {
  "kernelspec": {
   "display_name": "Python 3",
   "language": "python",
   "name": "python3"
  },
  "language_info": {
   "codemirror_mode": {
    "name": "ipython",
    "version": 3
   },
   "file_extension": ".py",
   "mimetype": "text/x-python",
   "name": "python",
   "nbconvert_exporter": "python",
   "pygments_lexer": "ipython3",
   "version": "3.8.8"
  }
 },
 "nbformat": 4,
 "nbformat_minor": 4
}
